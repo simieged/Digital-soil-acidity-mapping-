{
 "cells": [
  {
   "cell_type": "code",
   "execution_count": 1,
   "id": "8816412f",
   "metadata": {},
   "outputs": [],
   "source": [
    "import ee\n",
    "import geemap\n",
    "import os"
   ]
  },
  {
   "cell_type": "code",
   "execution_count": 2,
   "id": "216d49cb",
   "metadata": {},
   "outputs": [
    {
     "data": {
      "text/html": [
       "\n",
       "            <style>\n",
       "                .geemap-dark {\n",
       "                    --jp-widgets-color: white;\n",
       "                    --jp-widgets-label-color: white;\n",
       "                    --jp-ui-font-color1: white;\n",
       "                    --jp-layout-color2: #454545;\n",
       "                    background-color: #383838;\n",
       "                }\n",
       "\n",
       "                .geemap-dark .jupyter-button {\n",
       "                    --jp-layout-color3: #383838;\n",
       "                }\n",
       "\n",
       "                .geemap-colab {\n",
       "                    background-color: var(--colab-primary-surface-color, white);\n",
       "                }\n",
       "\n",
       "                .geemap-colab .jupyter-button {\n",
       "                    --jp-layout-color3: var(--colab-primary-surface-color, white);\n",
       "                }\n",
       "            </style>\n",
       "            "
      ],
      "text/plain": [
       "<IPython.core.display.HTML object>"
      ]
     },
     "metadata": {},
     "output_type": "display_data"
    },
    {
     "data": {
      "application/vnd.jupyter.widget-view+json": {
       "model_id": "e6b9e29dd5a64fb28ada0db33963d2b8",
       "version_major": 2,
       "version_minor": 0
      },
      "text/plain": [
       "Map(center=[10.32, 37.75], controls=(WidgetControl(options=['position', 'transparent_bg'], position='topright'…"
      ]
     },
     "execution_count": 2,
     "metadata": {},
     "output_type": "execute_result"
    }
   ],
   "source": [
    "Map = geemap.Map(center=[10.32, 37.75], zoom=10)\n",
    "Map"
   ]
  },
  {
   "cell_type": "code",
   "execution_count": 3,
   "id": "3b35c43f",
   "metadata": {},
   "outputs": [
    {
     "data": {
      "text/html": [
       "\n",
       "            <style>\n",
       "                .geemap-dark {\n",
       "                    --jp-widgets-color: white;\n",
       "                    --jp-widgets-label-color: white;\n",
       "                    --jp-ui-font-color1: white;\n",
       "                    --jp-layout-color2: #454545;\n",
       "                    background-color: #383838;\n",
       "                }\n",
       "\n",
       "                .geemap-dark .jupyter-button {\n",
       "                    --jp-layout-color3: #383838;\n",
       "                }\n",
       "\n",
       "                .geemap-colab {\n",
       "                    background-color: var(--colab-primary-surface-color, white);\n",
       "                }\n",
       "\n",
       "                .geemap-colab .jupyter-button {\n",
       "                    --jp-layout-color3: var(--colab-primary-surface-color, white);\n",
       "                }\n",
       "            </style>\n",
       "            "
      ],
      "text/plain": [
       "<IPython.core.display.HTML object>"
      ]
     },
     "metadata": {},
     "output_type": "display_data"
    }
   ],
   "source": [
    "\n",
    "work_dir = os.path.expanduser(\"E:/Researchs/EOTC church forests/Analysis/Codes\")"
   ]
  },
  {
   "cell_type": "code",
   "execution_count": 35,
   "id": "76d5f7ea",
   "metadata": {},
   "outputs": [
    {
     "data": {
      "text/html": [
       "\n",
       "            <style>\n",
       "                .geemap-dark {\n",
       "                    --jp-widgets-color: white;\n",
       "                    --jp-widgets-label-color: white;\n",
       "                    --jp-ui-font-color1: white;\n",
       "                    --jp-layout-color2: #454545;\n",
       "                    background-color: #383838;\n",
       "                }\n",
       "\n",
       "                .geemap-dark .jupyter-button {\n",
       "                    --jp-layout-color3: #383838;\n",
       "                }\n",
       "\n",
       "                .geemap-colab {\n",
       "                    background-color: var(--colab-primary-surface-color, white);\n",
       "                }\n",
       "\n",
       "                .geemap-colab .jupyter-button {\n",
       "                    --jp-layout-color3: var(--colab-primary-surface-color, white);\n",
       "                }\n",
       "            </style>\n",
       "            "
      ],
      "text/plain": [
       "<IPython.core.display.HTML object>"
      ]
     },
     "metadata": {},
     "output_type": "display_data"
    }
   ],
   "source": [
    "# Import Points to the map\n",
    "chemoga = geemap.shp_to_ee(os.path.join(work_dir, \"DSM_RS.shp\"))\n",
    "Map.addLayer(chemoga, {}, 'Chemoga Watershed')"
   ]
  },
  {
   "cell_type": "code",
   "execution_count": 36,
   "id": "eb00c6e6",
   "metadata": {},
   "outputs": [
    {
     "data": {
      "text/html": [
       "\n",
       "            <style>\n",
       "                .geemap-dark {\n",
       "                    --jp-widgets-color: white;\n",
       "                    --jp-widgets-label-color: white;\n",
       "                    --jp-ui-font-color1: white;\n",
       "                    --jp-layout-color2: #454545;\n",
       "                    background-color: #383838;\n",
       "                }\n",
       "\n",
       "                .geemap-dark .jupyter-button {\n",
       "                    --jp-layout-color3: #383838;\n",
       "                }\n",
       "\n",
       "                .geemap-colab {\n",
       "                    background-color: var(--colab-primary-surface-color, white);\n",
       "                }\n",
       "\n",
       "                .geemap-colab .jupyter-button {\n",
       "                    --jp-layout-color3: var(--colab-primary-surface-color, white);\n",
       "                }\n",
       "            </style>\n",
       "            "
      ],
      "text/plain": [
       "<IPython.core.display.HTML object>"
      ]
     },
     "metadata": {},
     "output_type": "display_data"
    }
   ],
   "source": [
    "# Set the Dates \n",
    "startDate = '2023-12-01'\n",
    "endDate = '2024-04-30'\n",
    "\n",
    "# Import Points to the map\n",
    "points_2024 = geemap.shp_to_ee(os.path.join(work_dir, \"points_2024.shp\"))\n",
    "Map.addLayer(points_2024, {}, 'Points_2024')"
   ]
  },
  {
   "cell_type": "code",
   "execution_count": 37,
   "id": "1385ba3a",
   "metadata": {},
   "outputs": [
    {
     "data": {
      "text/html": [
       "\n",
       "            <style>\n",
       "                .geemap-dark {\n",
       "                    --jp-widgets-color: white;\n",
       "                    --jp-widgets-label-color: white;\n",
       "                    --jp-ui-font-color1: white;\n",
       "                    --jp-layout-color2: #454545;\n",
       "                    background-color: #383838;\n",
       "                }\n",
       "\n",
       "                .geemap-dark .jupyter-button {\n",
       "                    --jp-layout-color3: #383838;\n",
       "                }\n",
       "\n",
       "                .geemap-colab {\n",
       "                    background-color: var(--colab-primary-surface-color, white);\n",
       "                }\n",
       "\n",
       "                .geemap-colab .jupyter-button {\n",
       "                    --jp-layout-color3: var(--colab-primary-surface-color, white);\n",
       "                }\n",
       "            </style>\n",
       "            "
      ],
      "text/plain": [
       "<IPython.core.display.HTML object>"
      ]
     },
     "metadata": {},
     "output_type": "display_data"
    },
    {
     "name": "stdout",
     "output_type": "stream",
     "text": [
      "Number of images:  9\n"
     ]
    }
   ],
   "source": [
    "def mask_s2_clouds(image):\n",
    "    \n",
    "  qa = image.select('QA60')\n",
    "\n",
    "  # Bits 10 and 11 are clouds and cirrus, respectively.\n",
    "  cloud_bit_mask = 1 << 10\n",
    "  cirrus_bit_mask = 1 << 11\n",
    "\n",
    "  # Both flags should be set to zero, indicating clear conditions.\n",
    "  mask = (\n",
    "      qa.bitwiseAnd(cloud_bit_mask)\n",
    "      .eq(0)\n",
    "      .And(qa.bitwiseAnd(cirrus_bit_mask).eq(0))\n",
    "  )\n",
    "\n",
    "  return image.updateMask(mask).divide(10000)\n",
    "\n",
    "\n",
    "dataset = (\n",
    "    ee.ImageCollection('COPERNICUS/S2_SR_HARMONIZED')\n",
    "    .filterDate(startDate, endDate)\n",
    "    .filterBounds(chemoga)\n",
    "    # Pre-filter to get less cloudy granules.\n",
    "    .filter(ee.Filter.lt('CLOUDY_PIXEL_PERCENTAGE', 5))\n",
    "    .map(mask_s2_clouds)\n",
    ")\n",
    "\n",
    "# Print the number satellite images\n",
    "print('Number of images: ', dataset.size().getInfo())"
   ]
  },
  {
   "cell_type": "code",
   "execution_count": 38,
   "id": "a1b90fdf",
   "metadata": {},
   "outputs": [
    {
     "data": {
      "text/html": [
       "\n",
       "            <style>\n",
       "                .geemap-dark {\n",
       "                    --jp-widgets-color: white;\n",
       "                    --jp-widgets-label-color: white;\n",
       "                    --jp-ui-font-color1: white;\n",
       "                    --jp-layout-color2: #454545;\n",
       "                    background-color: #383838;\n",
       "                }\n",
       "\n",
       "                .geemap-dark .jupyter-button {\n",
       "                    --jp-layout-color3: #383838;\n",
       "                }\n",
       "\n",
       "                .geemap-colab {\n",
       "                    background-color: var(--colab-primary-surface-color, white);\n",
       "                }\n",
       "\n",
       "                .geemap-colab .jupyter-button {\n",
       "                    --jp-layout-color3: var(--colab-primary-surface-color, white);\n",
       "                }\n",
       "            </style>\n",
       "            "
      ],
      "text/plain": [
       "<IPython.core.display.HTML object>"
      ]
     },
     "metadata": {},
     "output_type": "display_data"
    }
   ],
   "source": [
    "s2median = dataset.median().clip(chemoga)"
   ]
  },
  {
   "cell_type": "code",
   "execution_count": 39,
   "id": "fc86470a",
   "metadata": {},
   "outputs": [
    {
     "data": {
      "text/html": [
       "\n",
       "            <style>\n",
       "                .geemap-dark {\n",
       "                    --jp-widgets-color: white;\n",
       "                    --jp-widgets-label-color: white;\n",
       "                    --jp-ui-font-color1: white;\n",
       "                    --jp-layout-color2: #454545;\n",
       "                    background-color: #383838;\n",
       "                }\n",
       "\n",
       "                .geemap-dark .jupyter-button {\n",
       "                    --jp-layout-color3: #383838;\n",
       "                }\n",
       "\n",
       "                .geemap-colab {\n",
       "                    background-color: var(--colab-primary-surface-color, white);\n",
       "                }\n",
       "\n",
       "                .geemap-colab .jupyter-button {\n",
       "                    --jp-layout-color3: var(--colab-primary-surface-color, white);\n",
       "                }\n",
       "            </style>\n",
       "            "
      ],
      "text/plain": [
       "<IPython.core.display.HTML object>"
      ]
     },
     "metadata": {},
     "output_type": "display_data"
    }
   ],
   "source": [
    "visualization = {\n",
    "    'min': 0.0,\n",
    "    'max': 0.3,\n",
    "    'bands': ['B4', 'B3', 'B2'],\n",
    "}\n",
    "\n",
    "# Add the median image to the map\n",
    "Map.addLayer(s2median, visualization, 'S2 Median Image')"
   ]
  },
  {
   "cell_type": "code",
   "execution_count": 40,
   "id": "15868c05",
   "metadata": {},
   "outputs": [
    {
     "data": {
      "text/html": [
       "\n",
       "            <style>\n",
       "                .geemap-dark {\n",
       "                    --jp-widgets-color: white;\n",
       "                    --jp-widgets-label-color: white;\n",
       "                    --jp-ui-font-color1: white;\n",
       "                    --jp-layout-color2: #454545;\n",
       "                    background-color: #383838;\n",
       "                }\n",
       "\n",
       "                .geemap-dark .jupyter-button {\n",
       "                    --jp-layout-color3: #383838;\n",
       "                }\n",
       "\n",
       "                .geemap-colab {\n",
       "                    background-color: var(--colab-primary-surface-color, white);\n",
       "                }\n",
       "\n",
       "                .geemap-colab .jupyter-button {\n",
       "                    --jp-layout-color3: var(--colab-primary-surface-color, white);\n",
       "                }\n",
       "            </style>\n",
       "            "
      ],
      "text/plain": [
       "<IPython.core.display.HTML object>"
      ]
     },
     "metadata": {},
     "output_type": "display_data"
    },
    {
     "name": "stdout",
     "output_type": "stream",
     "text": [
      "{'type': 'Image', 'bands': [{'id': 'pc1', 'data_type': {'type': 'PixelType', 'precision': 'double'}, 'crs': 'EPSG:4326', 'crs_transform': [1, 0, 0, 0, 1, 0]}, {'id': 'pc2', 'data_type': {'type': 'PixelType', 'precision': 'double'}, 'crs': 'EPSG:4326', 'crs_transform': [1, 0, 0, 0, 1, 0]}, {'id': 'pc3', 'data_type': {'type': 'PixelType', 'precision': 'double'}, 'crs': 'EPSG:4326', 'crs_transform': [1, 0, 0, 0, 1, 0]}, {'id': 'pc4', 'data_type': {'type': 'PixelType', 'precision': 'double'}, 'crs': 'EPSG:4326', 'crs_transform': [1, 0, 0, 0, 1, 0]}, {'id': 'pc5', 'data_type': {'type': 'PixelType', 'precision': 'double'}, 'crs': 'EPSG:4326', 'crs_transform': [1, 0, 0, 0, 1, 0]}, {'id': 'pc6', 'data_type': {'type': 'PixelType', 'precision': 'double'}, 'crs': 'EPSG:4326', 'crs_transform': [1, 0, 0, 0, 1, 0]}, {'id': 'pc7', 'data_type': {'type': 'PixelType', 'precision': 'double'}, 'crs': 'EPSG:4326', 'crs_transform': [1, 0, 0, 0, 1, 0]}]}\n"
     ]
    }
   ],
   "source": [
    "# Display the input imagery and the region in which to do the PCA.\n",
    "region = chemoga.geometry()\n",
    "image = s2median.select('B2', 'B3', 'B4', 'B8', 'B9', 'B11', 'B12')\n",
    "\n",
    "# Set some information about the input to be used later.\n",
    "scale = 10\n",
    "bandNames = image.bandNames()\n",
    "\n",
    "# Mean center the data to enable a faster covariance reducer\n",
    "# and an SD stretch of the principal components.\n",
    "meanDict = image.reduceRegion(**{\n",
    "    'reducer': ee.Reducer.mean(),\n",
    "    'geometry': region,\n",
    "    'scale': scale,\n",
    "    'maxPixels': 1e9\n",
    "})\n",
    "means = ee.Image.constant(meanDict.values(bandNames))\n",
    "centered = image.subtract(means)\n",
    "\n",
    "# This helper function returns a list of new band names.\n",
    "def getNewBandNames(prefix):\n",
    "  seq = ee.List.sequence(1, bandNames.length())\n",
    "  return seq.map(lambda b: ee.String(prefix).cat(ee.Number(b).int().format()))\n",
    "\n",
    "\n",
    "# This function accepts mean centered imagery, a scale and\n",
    "# a region in which to perform the analysis.  It returns the\n",
    "# Principal Components (PC) in the region as a new image.\n",
    "def getPrincipalComponents(centered, scale, region):\n",
    "  # Collapse the bands of the image into a 1D array per pixel.\n",
    "  arrays = centered.toArray()\n",
    "\n",
    "  # Compute the covariance of the bands within the region.\n",
    "  covar= arrays.reduceRegion(**{\n",
    "    'reducer': ee.Reducer.centeredCovariance(),\n",
    "    'geometry': region,\n",
    "    'scale': scale,\n",
    "    'maxPixels': 1e9\n",
    "  })\n",
    "\n",
    "  # Get the 'array' covariance result and cast to an array.\n",
    "  # This represents the band-to-band covariance within the region.\n",
    "  covarArray = ee.Array(covar.get('array'))\n",
    "\n",
    "  # Perform an eigen analysis and slice apart the values and vectors.\n",
    "  eigens = covarArray.eigen()\n",
    "\n",
    "  # This is a P-length vector of Eigenvalues.\n",
    "  eigenValues = eigens.slice(1, 0, 1)\n",
    "  # This is a PxP matrix with eigenvectors in rows.\n",
    "  eigenVectors = eigens.slice(1, 1)\n",
    "\n",
    "  # Convert the array image to 2D arrays for matrix computations.\n",
    "  arrayImage = arrays.toArray(1)\n",
    "\n",
    "  # Left multiply the image array by the matrix of eigenvectors.\n",
    "  principalComponents = ee.Image(eigenVectors).matrixMultiply(arrayImage)\n",
    "\n",
    "  # Turn the square roots of the Eigenvalues into a P-band image.\n",
    "  sdImage = ee.Image(eigenValues.sqrt()) \\\n",
    "    .arrayProject([0]).arrayFlatten([getNewBandNames('sd')])\n",
    "\n",
    "  # Turn the PCs into a P-band image, normalized by SD.\n",
    "  return principalComponents \\\n",
    "    .arrayProject([0]) \\\n",
    "    .arrayFlatten([getNewBandNames('pc')]) \\\n",
    "    .divide(sdImage) \\\n",
    "\n",
    "# Get the PCs at the specified scale and in the specified region\n",
    "pcImage = getPrincipalComponents(centered, scale, region)\n",
    "\n",
    "print(pcImage.getInfo())"
   ]
  },
  {
   "cell_type": "code",
   "execution_count": 41,
   "id": "3b5339ad",
   "metadata": {},
   "outputs": [
    {
     "data": {
      "text/html": [
       "\n",
       "            <style>\n",
       "                .geemap-dark {\n",
       "                    --jp-widgets-color: white;\n",
       "                    --jp-widgets-label-color: white;\n",
       "                    --jp-ui-font-color1: white;\n",
       "                    --jp-layout-color2: #454545;\n",
       "                    background-color: #383838;\n",
       "                }\n",
       "\n",
       "                .geemap-dark .jupyter-button {\n",
       "                    --jp-layout-color3: #383838;\n",
       "                }\n",
       "\n",
       "                .geemap-colab {\n",
       "                    background-color: var(--colab-primary-surface-color, white);\n",
       "                }\n",
       "\n",
       "                .geemap-colab .jupyter-button {\n",
       "                    --jp-layout-color3: var(--colab-primary-surface-color, white);\n",
       "                }\n",
       "            </style>\n",
       "            "
      ],
      "text/plain": [
       "<IPython.core.display.HTML object>"
      ]
     },
     "metadata": {},
     "output_type": "display_data"
    }
   ],
   "source": [
    "# Composite \n",
    "composite = ee.Image.cat([(s2median), (pcImage)])"
   ]
  },
  {
   "cell_type": "code",
   "execution_count": 42,
   "id": "b8969861",
   "metadata": {},
   "outputs": [
    {
     "data": {
      "text/html": [
       "\n",
       "            <style>\n",
       "                .geemap-dark {\n",
       "                    --jp-widgets-color: white;\n",
       "                    --jp-widgets-label-color: white;\n",
       "                    --jp-ui-font-color1: white;\n",
       "                    --jp-layout-color2: #454545;\n",
       "                    background-color: #383838;\n",
       "                }\n",
       "\n",
       "                .geemap-dark .jupyter-button {\n",
       "                    --jp-layout-color3: #383838;\n",
       "                }\n",
       "\n",
       "                .geemap-colab {\n",
       "                    background-color: var(--colab-primary-surface-color, white);\n",
       "                }\n",
       "\n",
       "                .geemap-colab .jupyter-button {\n",
       "                    --jp-layout-color3: var(--colab-primary-surface-color, white);\n",
       "                }\n",
       "            </style>\n",
       "            "
      ],
      "text/plain": [
       "<IPython.core.display.HTML object>"
      ]
     },
     "metadata": {},
     "output_type": "display_data"
    },
    {
     "name": "stdout",
     "output_type": "stream",
     "text": [
      "Training Size: 924\n",
      "Validation Size: 439\n"
     ]
    }
   ],
   "source": [
    "# Import Points to the map\n",
    "points_2024 = geemap.shp_to_ee(os.path.join(work_dir, \"points_2024.shp\"))\n",
    "Map.addLayer(points_2024, {}, 'Points_2024')\n",
    "\n",
    "# Adds a column of deterministic pseudorandom numbers.\n",
    "sample_2024 = points_2024.randomColumn(\"random\", 1234)\n",
    "\n",
    "split = 0.7\n",
    "trainingGcp_2024 = sample_2024.filter(ee.Filter.lt(\"random\", split))\n",
    "validationGcp_2024 = sample_2024.filter(ee.Filter.gte(\"random\", split))\n",
    "\n",
    "print('Training Size:', trainingGcp_2024.size().getInfo())\n",
    "print('Validation Size:', validationGcp_2024.size().getInfo())\n",
    "\n",
    "# Train the classifier \n",
    "bands = ['B2', 'B3', 'B4', 'B8', 'B9', 'B11', 'B12', 'pc1', 'pc2', 'pc3']\n",
    "            \n",
    "label = 'landcover'\n",
    "\n",
    "# Overlay the points on the imagery to get training.\n",
    "sample = composite.sampleRegions(\n",
    "    collection=trainingGcp_2024, \n",
    "    properties=[label], \n",
    "    scale=30\n",
    ")\n"
   ]
  },
  {
   "cell_type": "code",
   "execution_count": 43,
   "id": "c3e2212a",
   "metadata": {},
   "outputs": [
    {
     "data": {
      "text/html": [
       "\n",
       "            <style>\n",
       "                .geemap-dark {\n",
       "                    --jp-widgets-color: white;\n",
       "                    --jp-widgets-label-color: white;\n",
       "                    --jp-ui-font-color1: white;\n",
       "                    --jp-layout-color2: #454545;\n",
       "                    background-color: #383838;\n",
       "                }\n",
       "\n",
       "                .geemap-dark .jupyter-button {\n",
       "                    --jp-layout-color3: #383838;\n",
       "                }\n",
       "\n",
       "                .geemap-colab {\n",
       "                    background-color: var(--colab-primary-surface-color, white);\n",
       "                }\n",
       "\n",
       "                .geemap-colab .jupyter-button {\n",
       "                    --jp-layout-color3: var(--colab-primary-surface-color, white);\n",
       "                }\n",
       "            </style>\n",
       "            "
      ],
      "text/plain": [
       "<IPython.core.display.HTML object>"
      ]
     },
     "metadata": {},
     "output_type": "display_data"
    },
    {
     "name": "stdout",
     "output_type": "stream",
     "text": [
      "RF error matrix:  [[0, 0, 0, 0, 0, 0], [0, 47, 1, 0, 0, 2], [0, 2, 5, 0, 0, 0], [0, 1, 0, 3, 0, 0], [0, 0, 0, 0, 7, 1], [0, 1, 0, 0, 0, 36]]\n",
      "RF overall accuracy:  0.9245283018867925\n",
      "RF kappa coefficient:  0.8811159399971962\n",
      "RF producer accuracy:  [[0], [0.94], [0.7142857142857143], [0.75], [0.875], [0.972972972972973]]\n",
      "RF consumer accuracy:  [[0, 0.9215686274509803, 0.8333333333333334, 1, 1, 0.9230769230769231]]\n"
     ]
    }
   ],
   "source": [
    "RF_classifier = ee.Classifier.smileRandomForest(60).train(sample, label, bands);\n",
    "\n",
    "# Classify the image with the same bands used for training.\n",
    "RF_2024 = composite.classify(RF_classifier)\n",
    "\n",
    "# Accuracy Assessment \n",
    "band = 'classification'\n",
    "\n",
    "test = RF_2024.select(band).sampleRegions(\n",
    "    collection=validationGcp_2024, \n",
    "    properties=[label],\n",
    "    scale=30\n",
    ")\n",
    "\n",
    "test_accuracy = test.errorMatrix('landcover', 'classification')\n",
    "print('RF error matrix: ', test_accuracy.getInfo())\n",
    "print('RF overall accuracy: ', test_accuracy.accuracy().getInfo())\n",
    "print('RF kappa coefficient: ', test_accuracy.kappa().getInfo())\n",
    "print('RF producer accuracy: ', test_accuracy.producersAccuracy().getInfo())\n",
    "print('RF consumer accuracy: ', test_accuracy.consumersAccuracy().getInfo())"
   ]
  },
  {
   "cell_type": "code",
   "execution_count": 44,
   "id": "b79640c3",
   "metadata": {},
   "outputs": [
    {
     "data": {
      "text/html": [
       "\n",
       "            <style>\n",
       "                .geemap-dark {\n",
       "                    --jp-widgets-color: white;\n",
       "                    --jp-widgets-label-color: white;\n",
       "                    --jp-ui-font-color1: white;\n",
       "                    --jp-layout-color2: #454545;\n",
       "                    background-color: #383838;\n",
       "                }\n",
       "\n",
       "                .geemap-dark .jupyter-button {\n",
       "                    --jp-layout-color3: #383838;\n",
       "                }\n",
       "\n",
       "                .geemap-colab {\n",
       "                    background-color: var(--colab-primary-surface-color, white);\n",
       "                }\n",
       "\n",
       "                .geemap-colab .jupyter-button {\n",
       "                    --jp-layout-color3: var(--colab-primary-surface-color, white);\n",
       "                }\n",
       "            </style>\n",
       "            "
      ],
      "text/plain": [
       "<IPython.core.display.HTML object>"
      ]
     },
     "metadata": {},
     "output_type": "display_data"
    },
    {
     "name": "stdout",
     "output_type": "stream",
     "text": [
      "GTB error matrix:  [[0, 0, 0, 0, 0, 0, 0], [0, 47, 1, 0, 0, 2, 0], [0, 2, 4, 0, 0, 0, 1], [0, 1, 0, 3, 0, 0, 0], [0, 0, 0, 0, 7, 1, 0], [0, 0, 0, 0, 0, 37, 0], [0, 0, 0, 0, 0, 0, 0]]\n",
      "GTB overall accuracy:  0.9245283018867925\n",
      "GTB kappa coefficient:  0.8814483433524396\n",
      "GTB producer accuracy:  [[0], [0.94], [0.5714285714285714], [0.75], [0.875], [1], [0]]\n",
      "GTB consumer accuracy:  [[0, 0.94, 0.8, 1, 1, 0.925, 0]]\n"
     ]
    }
   ],
   "source": [
    "GTB_classifier = ee.Classifier.smileGradientTreeBoost(60).train(sample, label, bands);\n",
    "\n",
    "# Classify the image with the same bands used for training.\n",
    "GTB_2024 = composite.classify(GTB_classifier)\n",
    "\n",
    "# Accuracy Assessment \n",
    "band = 'classification'\n",
    "\n",
    "test = GTB_2024.select(band).sampleRegions(\n",
    "    collection=validationGcp_2024, \n",
    "    properties=[label],\n",
    "    scale=30\n",
    ")\n",
    "\n",
    "test_accuracy = test.errorMatrix('landcover', 'classification')\n",
    "print('GTB error matrix: ', test_accuracy.getInfo())\n",
    "print('GTB overall accuracy: ', test_accuracy.accuracy().getInfo())\n",
    "print('GTB kappa coefficient: ', test_accuracy.kappa().getInfo())\n",
    "print('GTB producer accuracy: ', test_accuracy.producersAccuracy().getInfo())\n",
    "print('GTB consumer accuracy: ', test_accuracy.consumersAccuracy().getInfo())"
   ]
  },
  {
   "cell_type": "code",
   "execution_count": 31,
   "id": "5b9551bb",
   "metadata": {},
   "outputs": [
    {
     "data": {
      "text/html": [
       "\n",
       "            <style>\n",
       "                .geemap-dark {\n",
       "                    --jp-widgets-color: white;\n",
       "                    --jp-widgets-label-color: white;\n",
       "                    --jp-ui-font-color1: white;\n",
       "                    --jp-layout-color2: #454545;\n",
       "                    background-color: #383838;\n",
       "                }\n",
       "\n",
       "                .geemap-dark .jupyter-button {\n",
       "                    --jp-layout-color3: #383838;\n",
       "                }\n",
       "\n",
       "                .geemap-colab {\n",
       "                    background-color: var(--colab-primary-surface-color, white);\n",
       "                }\n",
       "\n",
       "                .geemap-colab .jupyter-button {\n",
       "                    --jp-layout-color3: var(--colab-primary-surface-color, white);\n",
       "                }\n",
       "            </style>\n",
       "            "
      ],
      "text/plain": [
       "<IPython.core.display.HTML object>"
      ]
     },
     "metadata": {},
     "output_type": "display_data"
    },
    {
     "name": "stdout",
     "output_type": "stream",
     "text": [
      "SVM error matrix:  [[0, 0, 0, 0, 0, 0], [0, 47, 1, 0, 0, 2], [0, 3, 4, 0, 0, 0], [0, 2, 0, 2, 0, 0], [0, 0, 0, 0, 6, 2], [0, 2, 0, 0, 0, 35]]\n",
      "SVM overall accuracy:  0.8867924528301887\n",
      "SVM kappa coefficient:  0.818337617823479\n",
      "SVM producer accuracy:  [[0], [0.94], [0.5714285714285714], [0.5], [0.75], [0.9459459459459459]]\n",
      "SVM consumer accuracy:  [[0, 0.8703703703703703, 0.8, 1, 1, 0.8974358974358975]]\n"
     ]
    }
   ],
   "source": [
    "SVM_classifier = ee.Classifier.libsvm(kernelType='LINEAR', cost=10).train(sample, label, bands);\n",
    "\n",
    "# Classify the image with the same bands used for training.\n",
    "SVM_2024 = composite.classify(SVM_classifier)\n",
    "\n",
    "# Accuracy Assessment \n",
    "band = 'classification'\n",
    "\n",
    "test = SVM_2024.select(band).sampleRegions(\n",
    "    collection=validationGcp_2024, \n",
    "    properties=[label],\n",
    "    scale=30\n",
    ")\n",
    "\n",
    "test_accuracy = test.errorMatrix('landcover', 'classification')\n",
    "print('SVM error matrix: ', test_accuracy.getInfo())\n",
    "print('SVM overall accuracy: ', test_accuracy.accuracy().getInfo())\n",
    "print('SVM kappa coefficient: ', test_accuracy.kappa().getInfo())\n",
    "print('SVM producer accuracy: ', test_accuracy.producersAccuracy().getInfo())\n",
    "print('SVM consumer accuracy: ', test_accuracy.consumersAccuracy().getInfo())"
   ]
  },
  {
   "cell_type": "code",
   "execution_count": null,
   "id": "1787e59d",
   "metadata": {},
   "outputs": [],
   "source": [
    "# Visualize the classification\n",
    "Map.addLayer(\n",
    "    RF_2024,\n",
    "    {\n",
    "        'min': 1,\n",
    "        'max': 6,\n",
    "        'palette': [\n",
    "            '006400', '8B4513', 'FFFF00', '00FF00', '0000FF', 'FF0000'\n",
    "        ]\n",
    "    },\n",
    "    'RF Classification'\n",
    ")\n",
    "Map"
   ]
  },
  {
   "cell_type": "code",
   "execution_count": 15,
   "id": "84bfba62",
   "metadata": {},
   "outputs": [
    {
     "name": "stdout",
     "output_type": "stream",
     "text": [
      "Area of Built-up: 156\n",
      "Area of Forest: 1813\n",
      "Area of Grazing: 7068\n",
      "Water area: 18\n"
     ]
    }
   ],
   "source": [
    "# Agriculture Area\n",
    "agriculture = RF_2024.eq(1).multiply(ee.Image.pixelArea().divide(10000))\n",
    "\n",
    "# Reduce the region to calculate the sum of the areas that meet the condition.\n",
    "area_ag = agriculture.reduceRegion(**{\n",
    "  'reducer': ee.Reducer.sum(),\n",
    "  'geometry': chemoga.geometry(),  # Assuming jedeb is a predefined geometry.\n",
    "  'scale': 10,\n",
    "  'maxPixels': 1e10\n",
    "})\n",
    "\n",
    "print('Area of Agriculture:', round(area_ag.getInfo()['classification']))\n",
    "\n",
    "# Bareland Area\n",
    "bareland = RF_2024.eq(2).multiply(ee.Image.pixelArea().divide(10000))\n",
    "\n",
    "# Reduce the region to calculate the sum of the areas that meet the condition.\n",
    "area_br = bareland.reduceRegion(**{\n",
    "  'reducer': ee.Reducer.sum(),\n",
    "  'geometry': chemoga.geometry(),  # Assuming jedeb is a predefined geometry.\n",
    "  'scale': 10,\n",
    "  'maxPixels': 1e10\n",
    "})\n",
    "\n",
    "print('Area of Bareland:', round(area_br.getInfo()['classification']))\n",
    "\n",
    "# Built-up Area\n",
    "builtup = RF_2024.eq(3).multiply(ee.Image.pixelArea().divide(10000))\n",
    "\n",
    "# Reduce the region to calculate the sum of the areas that meet the condition.\n",
    "area_bu = builtup.reduceRegion(**{\n",
    "  'reducer': ee.Reducer.sum(),\n",
    "  'geometry': chemoga.geometry(),  # Assuming jedeb is a predefined geometry.\n",
    "  'scale': 10,\n",
    "  'maxPixels': 1e10\n",
    "})\n",
    "\n",
    "print('Area of Built-up:', round(area_bu.getInfo()['classification']))\n",
    "\n",
    "# Forest Area\n",
    "forest = RF_2024.eq(4).multiply(ee.Image.pixelArea().divide(10000))\n",
    "\n",
    "# Reduce the region to calculate the sum of the areas that meet the condition.\n",
    "area_fr = forest.reduceRegion(**{\n",
    "  'reducer': ee.Reducer.sum(),\n",
    "  'geometry': chemoga.geometry(),  # Assuming jedeb is a predefined geometry.\n",
    "  'scale': 10,\n",
    "  'maxPixels': 1e10\n",
    "})\n",
    "\n",
    "print('Area of Forest:', round(area_fr.getInfo()['classification']))\n",
    "\n",
    "# Grazing Area\n",
    "grazing = RF_2024.eq(5).multiply(ee.Image.pixelArea().divide(10000))\n",
    "\n",
    "# Reduce the region to calculate the sum of the areas that meet the condition.\n",
    "area_gr = grazing.reduceRegion(**{\n",
    "  'reducer': ee.Reducer.sum(),\n",
    "  'geometry': chemoga.geometry(),  # Assuming jedeb is a predefined geometry.\n",
    "  'scale': 10,\n",
    "  'maxPixels': 1e10\n",
    "})\n",
    "\n",
    "print('Area of Grazing:', round(area_gr.getInfo()['classification']))\n",
    "\n",
    "# Waterbody Area\n",
    "water = RF_2024.eq(6).multiply(ee.Image.pixelArea().divide(10000))\n",
    "\n",
    "# Reduce the region to calculate the sum of the areas that meet the condition.\n",
    "area_wb = water.reduceRegion(**{\n",
    "  'reducer': ee.Reducer.sum(),\n",
    "  'geometry': chemoga.geometry(),  # Assuming jedeb is a predefined geometry.\n",
    "  'scale': 10,\n",
    "  'maxPixels': 1e10\n",
    "})\n",
    "\n",
    "print('Water area:', round(area_wb.getInfo()['classification']))"
   ]
  },
  {
   "cell_type": "code",
   "execution_count": null,
   "id": "3aecc38d",
   "metadata": {},
   "outputs": [],
   "source": [
    "# Export the classified image to local drive\n",
    "geemap.ee_export_image(RF_2024, filename='RF_Chemoga_2024_Sime.tif', scale=10, region=chemoga.geometry(), file_per_band=False)"
   ]
  }
 ],
 "metadata": {
  "kernelspec": {
   "display_name": "gee",
   "language": "python",
   "name": "python3"
  },
  "language_info": {
   "codemirror_mode": {
    "name": "ipython",
    "version": 3
   },
   "file_extension": ".py",
   "mimetype": "text/x-python",
   "name": "python",
   "nbconvert_exporter": "python",
   "pygments_lexer": "ipython3",
   "version": "3.13.5"
  }
 },
 "nbformat": 4,
 "nbformat_minor": 5
}
